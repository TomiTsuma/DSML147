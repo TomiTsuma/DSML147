{
 "cells": [
  {
   "cell_type": "code",
   "execution_count": null,
   "id": "519ea464-04ad-4572-92bd-b0bbeb44604f",
   "metadata": {},
   "outputs": [],
   "source": [
    "Spectral Samples Import Template.xlsx"
   ]
  },
  {
   "cell_type": "code",
   "execution_count": 1,
   "id": "51b33577-a537-4528-95a0-7e0494d5657b",
   "metadata": {},
   "outputs": [],
   "source": [
    "import psycopg2\n",
    "import sqlalchemy as sq\n",
    "import pandas as pd\n",
    "import numpy as np\n",
    "import mariadb\n",
    "import dask.dataframe as dd\n",
    "import json\n",
    "import os\n",
    "import shutil\n",
    "import subprocess\n",
    "from pathlib import Path"
   ]
  },
  {
   "cell_type": "code",
   "execution_count": 6,
   "id": "8bad9dc4-fc23-42f3-af26-9b8cb47deeed",
   "metadata": {},
   "outputs": [
    {
     "data": {
      "text/plain": [
       "\"('1', '2', '3')\""
      ]
     },
     "execution_count": 6,
     "metadata": {},
     "output_type": "execute_result"
    }
   ],
   "source": [
    "str(['1','2','3']).replace('[','(').replace(']',')')"
   ]
  },
  {
   "cell_type": "code",
   "execution_count": null,
   "id": "0c5af2b2-e717-4e27-be2d-82a19c56e4ae",
   "metadata": {},
   "outputs": [],
   "source": []
  }
 ],
 "metadata": {
  "kernelspec": {
   "display_name": "Python 3 (ipykernel)",
   "language": "python",
   "name": "python3"
  },
  "language_info": {
   "codemirror_mode": {
    "name": "ipython",
    "version": 3
   },
   "file_extension": ".py",
   "mimetype": "text/x-python",
   "name": "python",
   "nbconvert_exporter": "python",
   "pygments_lexer": "ipython3",
   "version": "3.12.3"
  }
 },
 "nbformat": 4,
 "nbformat_minor": 5
}
